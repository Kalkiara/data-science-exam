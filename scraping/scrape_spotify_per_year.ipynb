{
 "cells": [
  {
   "cell_type": "code",
   "execution_count": 4,
   "metadata": {},
   "outputs": [],
   "source": [
    "import requests\n",
    "from bs4 import BeautifulSoup\n",
    "import spotipy\n",
    "from spotipy.oauth2 import SpotifyClientCredentials\n",
    "import pandas as pd\n",
    "import os"
   ]
  },
  {
   "attachments": {},
   "cell_type": "markdown",
   "metadata": {},
   "source": [
    "## Scrape Wikipedia"
   ]
  },
  {
   "cell_type": "code",
   "execution_count": 17,
   "metadata": {},
   "outputs": [],
   "source": [
    "# get years of interest\n",
    "years = list(range(1960, 2023)) # range of years\n",
    "urls = []\n",
    "\n",
    "# specify the URL of the Wikipedia page(s)\n",
    "for year in years:\n",
    "    url = f'https://en.wikipedia.org/wiki/Billboard_Year-End_Hot_100_singles_of_{year}'\n",
    "    urls.append(url)\n",
    "    "
   ]
  },
  {
   "cell_type": "code",
   "execution_count": 7,
   "metadata": {},
   "outputs": [],
   "source": [
    "# iterate over each URL and scrape the column entries\n",
    "column_entries_list = []\n",
    "for url in urls:\n",
    "    \n",
    "    # make a GET request to the URL and get the page content\n",
    "    response = requests.get(url)\n",
    "    content = response.content\n",
    "\n",
    "    # parse the page content \n",
    "    soup = BeautifulSoup(content, 'html.parser')\n",
    "\n",
    "    # find the table that contains the data \n",
    "    table = soup.find('table', {'class': 'wikitable sortable'})\n",
    "\n",
    "    # scrape first column\n",
    "    column_index = 1\n",
    "    column_entries = []\n",
    "\n",
    "    # iterate over each row in the table and get the entry in the specified column\n",
    "    for row in table.find_all('tr')[1:]:\n",
    "        column_entry = row.find_all('td')[column_index].text.strip()\n",
    "        column_entries.append(column_entry)\n",
    "\n",
    "    # remove one of the quotation marks from each element in the list\n",
    "    column_entries = [element.replace('\"', '') for element in column_entries]\n",
    "\n",
    "    # add the list of column entries to the list of lists\n",
    "    column_entries_list.append(column_entries)"
   ]
  },
  {
   "attachments": {},
   "cell_type": "markdown",
   "metadata": {},
   "source": [
    "## Scrape Spotify"
   ]
  },
  {
   "cell_type": "code",
   "execution_count": 8,
   "metadata": {},
   "outputs": [],
   "source": [
    "# set up the credentials\n",
    "client_id = ''\n",
    "client_secret = ''\n",
    "\n",
    "client_credentials_manager = SpotifyClientCredentials(client_id=client_id, client_secret=client_secret)\n",
    "sp = spotipy.Spotify(client_credentials_manager=client_credentials_manager)\n",
    "\n",
    "dfs_by_year = {} # initialize dictionary\n",
    "\n",
    "for i, column_entries in enumerate(column_entries_list): # for each year's top\n",
    "\n",
    "    audio_features = []\n",
    "    song_names = []\n",
    "    \n",
    "    for song_name in column_entries: # for each song name within the year\n",
    "        \n",
    "        results = sp.search(q=song_name, type='track', limit=1)\n",
    "\n",
    "        if results['tracks']['total'] > 0:\n",
    "            track_id = results['tracks']['items'][0]['id']\n",
    "            features = sp.audio_features(track_id)[0]\n",
    "            \n",
    "            # check if features is None before appending to list\n",
    "            if features is not None:\n",
    "                audio_features.append(features)\n",
    "                song_names.append(song_name)\n",
    "\n",
    "    # convert features to a dataframe\n",
    "    df = pd.DataFrame(audio_features)\n",
    "\n",
    "    # add the song name and year to the dataframe\n",
    "    df['song_name'] = song_names\n",
    "    df['year'] = years[i]\n",
    "\n",
    "    # store the dataframe in the dictionary\n",
    "    dfs_by_year[years[i]] = df\n"
   ]
  },
  {
   "cell_type": "code",
   "execution_count": 29,
   "metadata": {},
   "outputs": [],
   "source": [
    "# concatenate dataframes\n",
    "full_df = pd.concat(dfs_by_year)\n",
    "\n",
    "# save as csv\n",
    "outfile = os.path.join(\"..\", \"data\", \"top_songs_by_year.csv\") # point to data location\n",
    "full_df.to_csv(outfile)"
   ]
  }
 ],
 "metadata": {
  "kernelspec": {
   "display_name": "Python 3",
   "language": "python",
   "name": "python3"
  },
  "language_info": {
   "codemirror_mode": {
    "name": "ipython",
    "version": 3
   },
   "file_extension": ".py",
   "mimetype": "text/x-python",
   "name": "python",
   "nbconvert_exporter": "python",
   "pygments_lexer": "ipython3",
   "version": "3.9.13"
  },
  "orig_nbformat": 4,
  "vscode": {
   "interpreter": {
    "hash": "6ea50ce4b5898576252dc62ba6e93b2c3a4b2c43c01e45709956491a2c02e21a"
   }
  }
 },
 "nbformat": 4,
 "nbformat_minor": 2
}
